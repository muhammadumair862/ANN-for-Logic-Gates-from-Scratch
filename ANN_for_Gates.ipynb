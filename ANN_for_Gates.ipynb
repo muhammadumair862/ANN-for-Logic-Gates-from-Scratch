{
  "cells": [
    {
      "cell_type": "code",
      "execution_count": null,
      "metadata": {
        "id": "koXrjWZpaSOI"
      },
      "outputs": [],
      "source": [
        "import numpy as np"
      ]
    },
    {
      "cell_type": "markdown",
      "metadata": {
        "id": "qcuw-s_Q6E1X"
      },
      "source": [
        "Parameters"
      ]
    },
    {
      "cell_type": "code",
      "execution_count": null,
      "metadata": {
        "id": "5imyos-l5fya"
      },
      "outputs": [],
      "source": [
        "# learning rate\n",
        "alpha = 0.1"
      ]
    },
    {
      "cell_type": "markdown",
      "metadata": {
        "id": "pYOzDiHo4t8j"
      },
      "source": []
    },
    {
      "cell_type": "code",
      "execution_count": null,
      "metadata": {
        "id": "-UYxuqQ64u51"
      },
      "outputs": [],
      "source": [
        "# Initailize Weights and biases\n",
        "def init_parameters(input_size,hidden_size):\n",
        "    # Initiallize weights and bias from normal distribution\n",
        "    w = np.random.normal(0, 1, size=(input_size,hidden_size))\n",
        "    b = np.random.normal(0,1)\n",
        "\n",
        "    return w, b"
      ]
    },
    {
      "cell_type": "code",
      "execution_count": null,
      "metadata": {
        "id": "rQioM9KQt02k"
      },
      "outputs": [],
      "source": [
        "# Sigmoid Function\n",
        "def sigmoid(x):\n",
        "    z = 1/(1+np.exp(-x))\n",
        "    return z"
      ]
    },
    {
      "cell_type": "code",
      "execution_count": null,
      "metadata": {
        "id": "5oqPXGgsaiv0"
      },
      "outputs": [],
      "source": [
        "# Foward pass function\n",
        "def forward(x, w, b):\n",
        "    predictions = np.dot(x, w) + b\n",
        "    z = sigmoid(predictions)\n",
        "    y_hat = (z > 0.5).astype(int)\n",
        "\n",
        "    return y_hat"
      ]
    },
    {
      "cell_type": "code",
      "execution_count": null,
      "metadata": {
        "id": "NnoOtmoFnRH2"
      },
      "outputs": [],
      "source": [
        "# calculate cost or loss\n",
        "def compute_loss(y_hat, y):\n",
        "    J = (y_hat-y)\n",
        "    return J"
      ]
    },
    {
      "cell_type": "code",
      "execution_count": null,
      "metadata": {
        "id": "5Llg5BxJmRMX"
      },
      "outputs": [],
      "source": [
        "# derivative of w w.r.t x\n",
        "def grad_w(J, x):\n",
        "    dw = 1/J.shape[0] * np.sum(J*x)\n",
        "    return dw\n",
        "\n",
        "# derivative of w w.r.t x\n",
        "def grad_b(J):\n",
        "    db = 1/J.shape[0] * np.sum(J)\n",
        "    return db\n",
        "\n",
        "# backpropagation function\n",
        "def backward(J, x, w, b):\n",
        "    # Calculate gradients\n",
        "    dw = grad_w(J, x.T)\n",
        "    db = grad_b(J)\n",
        "\n",
        "    # Update weights\n",
        "    w = w - alpha * dw\n",
        "    b = b - alpha * db\n",
        "\n",
        "    return w, b"
      ]
    },
    {
      "cell_type": "code",
      "execution_count": null,
      "metadata": {
        "id": "XMo3MXEX6abw"
      },
      "outputs": [],
      "source": [
        "# train function\n",
        "def train(x=None, y=None, alpha=0.1, epochs=100):\n",
        "    # Set size of input and hidden layers neurons according to data\n",
        "    input_size = X.shape[0]\n",
        "    hidden_size = Y.shape[1]\n",
        "\n",
        "    # weights initiallize\n",
        "    w, b = init_parameters(input_size,hidden_size)\n",
        "\n",
        "    # Run model for training\n",
        "    for epoch in range(epochs):\n",
        "        y_hat = forward(x.T, w, b)\n",
        "        J = compute_loss(y_hat, y)\n",
        "        w, b = backward(J, x, w, b)\n",
        "\n",
        "    return w,b"
      ]
    },
    {
      "cell_type": "code",
      "execution_count": null,
      "metadata": {
        "id": "rmwzWbot6ZV0"
      },
      "outputs": [],
      "source": [
        "# test function\n",
        "def test(x, w, b):\n",
        "    y_hat = forward(x.T, w, b)\n",
        "    return y_hat"
      ]
    },
    {
      "cell_type": "markdown",
      "metadata": {
        "id": "rrfnG0yXvpnJ"
      },
      "source": [
        "ANN for AND"
      ]
    },
    {
      "cell_type": "code",
      "execution_count": null,
      "metadata": {
        "id": "MaLC6ywO6Yrk"
      },
      "outputs": [],
      "source": [
        "# Dataset\n",
        "X = np.array([[0,0,1,1],\n",
        "              [0,1,0,1]])\n",
        "Y = np.array([0,0,0,1])\n",
        "Y = Y[:, np.newaxis]\n",
        "\n",
        "\n",
        "test_X = np.array([ [1,0,1,1],\n",
        "                    [1,1,0,1]])"
      ]
    },
    {
      "cell_type": "code",
      "execution_count": null,
      "metadata": {
        "colab": {
          "base_uri": "https://localhost:8080/"
        },
        "id": "b7kYdsl6aqwm",
        "outputId": "77eea536-b571-4bec-e29a-b06b218f7b4b"
      },
      "outputs": [
        {
          "data": {
            "text/plain": [
              "array([[1],\n",
              "       [0],\n",
              "       [1],\n",
              "       [1]])"
            ]
          },
          "execution_count": 62,
          "metadata": {},
          "output_type": "execute_result"
        }
      ],
      "source": [
        "w, b = train(X, Y, epochs=100)\n",
        "test(test_X, w, b)\n"
      ]
    },
    {
      "cell_type": "markdown",
      "metadata": {
        "id": "wkfAdBx0vsSD"
      },
      "source": [
        "ANN for OR"
      ]
    },
    {
      "cell_type": "code",
      "execution_count": null,
      "metadata": {
        "id": "foQ6TQspv0pZ"
      },
      "outputs": [],
      "source": [
        "# Dataset\n",
        "X = np.array([[0,0,1,1],\n",
        "              [0,1,0,1]])\n",
        "Y = np.array([0,1,1,1])\n",
        "Y = Y[:, np.newaxis]\n",
        "\n",
        "\n",
        "test_X = np.array([ [1,0,0,0],\n",
        "                    [1,1,0,1]])"
      ]
    },
    {
      "cell_type": "code",
      "execution_count": null,
      "metadata": {
        "colab": {
          "base_uri": "https://localhost:8080/"
        },
        "id": "RGugFZ8BjYA1",
        "outputId": "94bffeaf-34cd-407b-a8d5-a329f989a27a"
      },
      "outputs": [
        {
          "data": {
            "text/plain": [
              "array([[1],\n",
              "       [1],\n",
              "       [0],\n",
              "       [1]])"
            ]
          },
          "execution_count": 64,
          "metadata": {},
          "output_type": "execute_result"
        }
      ],
      "source": [
        "w, b = train(X, Y, epochs=100)\n",
        "test(test_X, w, b)\n"
      ]
    },
    {
      "cell_type": "markdown",
      "metadata": {
        "id": "_F2V1L_zv-9Q"
      },
      "source": [
        "ANN for Not"
      ]
    },
    {
      "cell_type": "code",
      "execution_count": null,
      "metadata": {
        "id": "yHuY_C52wAry"
      },
      "outputs": [],
      "source": [
        "# Dataset\n",
        "X = np.array([[0,1]])\n",
        "Y = np.array([1,0])\n",
        "\n",
        "Y = Y[:, np.newaxis]\n",
        "\n",
        "\n",
        "test_X = np.array([[1,0,1,1]])"
      ]
    },
    {
      "cell_type": "code",
      "execution_count": null,
      "metadata": {
        "colab": {
          "base_uri": "https://localhost:8080/"
        },
        "id": "0LXrCx1pwKS3",
        "outputId": "3a9e821a-a79d-4099-df06-045a0248bf60"
      },
      "outputs": [
        {
          "data": {
            "text/plain": [
              "array([[0],\n",
              "       [1],\n",
              "       [0],\n",
              "       [0]])"
            ]
          },
          "execution_count": 66,
          "metadata": {},
          "output_type": "execute_result"
        }
      ],
      "source": [
        "w, b = train(X, Y, epochs=100)\n",
        "test(test_X, w, b)"
      ]
    },
    {
      "cell_type": "markdown",
      "metadata": {
        "id": "KdA1YnJB2y0L"
      },
      "source": [
        "ANN for NOR Gate"
      ]
    },
    {
      "cell_type": "code",
      "execution_count": null,
      "metadata": {
        "id": "56ro4-qR22r5"
      },
      "outputs": [],
      "source": [
        "# Dataset\n",
        "X = np.array([[0,0,1,1],\n",
        "              [0,1,0,1]])\n",
        "Y = np.array([1,0,0,0])\n",
        "Y = Y[:, np.newaxis]\n",
        "\n",
        "\n",
        "test_X = np.array([ [1,0,0,0],\n",
        "                    [1,1,0,1]])"
      ]
    },
    {
      "cell_type": "code",
      "execution_count": null,
      "metadata": {
        "colab": {
          "base_uri": "https://localhost:8080/"
        },
        "id": "foHlcVTH-fjL",
        "outputId": "02f7c48d-e797-41c7-f37a-4dba0124418c"
      },
      "outputs": [
        {
          "data": {
            "text/plain": [
              "array([[0],\n",
              "       [0],\n",
              "       [1],\n",
              "       [0]])"
            ]
          },
          "execution_count": 68,
          "metadata": {},
          "output_type": "execute_result"
        }
      ],
      "source": [
        "w, b = train(X, Y, epochs=100)\n",
        "test(test_X, w, b)"
      ]
    },
    {
      "cell_type": "markdown",
      "metadata": {
        "id": "3BaJ-Z2I_Ao0"
      },
      "source": [
        "ANN for NAND"
      ]
    },
    {
      "cell_type": "code",
      "execution_count": null,
      "metadata": {
        "id": "NbJBaYDK_Cbv"
      },
      "outputs": [],
      "source": [
        "# Dataset\n",
        "X = np.array([[0,0,1,1],\n",
        "              [0,1,0,1]])\n",
        "Y = np.array([1,1,1,0])\n",
        "Y = Y[:, np.newaxis]\n",
        "\n",
        "\n",
        "test_X = np.array([ [1,0,0,1],\n",
        "                    [1,1,0,1]])"
      ]
    },
    {
      "cell_type": "code",
      "execution_count": null,
      "metadata": {
        "colab": {
          "base_uri": "https://localhost:8080/"
        },
        "id": "Ib8At3MH_IaC",
        "outputId": "544d02a6-da9b-482d-e670-5ac995b9fe4b"
      },
      "outputs": [
        {
          "data": {
            "text/plain": [
              "array([[1],\n",
              "       [1],\n",
              "       [1],\n",
              "       [1]])"
            ]
          },
          "execution_count": 70,
          "metadata": {},
          "output_type": "execute_result"
        }
      ],
      "source": [
        "w, b = train(X, Y, epochs=100)\n",
        "test(test_X, w, b)"
      ]
    },
    {
      "cell_type": "markdown",
      "metadata": {
        "id": "JNRGEXfj_Ysg"
      },
      "source": [
        "ANN for XNOR Gate"
      ]
    },
    {
      "cell_type": "code",
      "execution_count": null,
      "metadata": {
        "id": "HCI4fBrYvo6I"
      },
      "outputs": [],
      "source": [
        "def init_parameters_2n(input_size, hidden_size, output_size=1):\n",
        "    # Initialize weights and bias for the hidden layer\n",
        "    w_hidden = np.random.normal(0, 1, size=(input_size, hidden_size))\n",
        "    b_hidden = np.random.normal(0, 1, size=(1, hidden_size))  # Updated to match the shape of w_hidden\n",
        "\n",
        "    # Initialize weights and bias for the output layer\n",
        "    w_output = np.random.normal(0, 1, size=(hidden_size, output_size))\n",
        "    b_output = np.random.normal(0, 1, size=(1, output_size))  # Updated to match the shape of w_output\n",
        "\n",
        "    return w_hidden, b_hidden, w_output, b_output\n"
      ]
    },
    {
      "cell_type": "code",
      "execution_count": null,
      "metadata": {
        "id": "a0Cp2gdVPJAh"
      },
      "outputs": [],
      "source": [
        "# Forward pass function\n",
        "def forward_n2(x, w_hidden, b_hidden, w_output, b_output):\n",
        "    z1 = np.dot(x, w_hidden) + b_hidden\n",
        "    a1 = sigmoid(z1)\n",
        "    z2 = np.dot(a1, w_output) + b_output\n",
        "    a2 = sigmoid(z2)\n",
        "\n",
        "    y_hat = (a2 > 0.5).astype(int)\n",
        "\n",
        "    return y_hat, a2, a1\n",
        "\n",
        "# Backpropagation function\n",
        "def backward_n2(x, y, a2, a1, w_output, b_output, w_hidden, b_hidden, alpha):\n",
        "    # Calculate the error\n",
        "    J = -(y - a2) * (a2 * (1 - a2))\n",
        "\n",
        "    # Update weights and biases for the output layer\n",
        "    dw_output = np.dot(a1.T, J)\n",
        "    db_output = np.sum(J, axis=0, keepdims=True)\n",
        "    w_output = w_output - alpha * dw_output\n",
        "    b_output = b_output - alpha * db_output\n",
        "\n",
        "    # Calculate the error for the hidden layer\n",
        "    J_hidden = np.dot(J, w_output.T) * (a1 * (1 - a1))\n",
        "\n",
        "    # Update weights and biases for the hidden layer\n",
        "    dw_hidden = np.dot(x.T, J_hidden)\n",
        "    db_hidden = np.sum(J_hidden, axis=0, keepdims=True)\n",
        "    w_hidden = w_hidden - alpha * dw_hidden\n",
        "    b_hidden = b_hidden - alpha * db_hidden\n",
        "\n",
        "    return w_hidden, b_hidden, w_output, b_output\n"
      ]
    },
    {
      "cell_type": "code",
      "execution_count": null,
      "metadata": {
        "id": "kflJeqbJRrk5"
      },
      "outputs": [],
      "source": [
        "# train function\n",
        "def train_n2(x=None, y=None, alpha=0.1, epochs=1000):\n",
        "    input_size, hidden_size = 2, 2\n",
        "    w_hidden, b_hidden, w_output, b_output = init_parameters_2n(input_size, hidden_size)\n",
        "    for epoch in range(epochs):\n",
        "        y_hat, a2, a1 = forward_n2(X.T, w_hidden, b_hidden, w_output, b_output)\n",
        "        w_hidden, b_hidden, w_output, b_output = backward(X.T, Y, a2, a1, w_output, b_output, w_hidden, b_hidden, alpha)\n",
        "    return w_hidden, b_hidden, w_output, b_output"
      ]
    },
    {
      "cell_type": "code",
      "execution_count": null,
      "metadata": {
        "id": "UNlygW7YSJ0j"
      },
      "outputs": [],
      "source": [
        "def test_n2(test_X, w_hidden, b_hidden, w_output, b_output):\n",
        "    results, _, _ = forward_n2(test_X.T, w_hidden, b_hidden, w_output, b_output)\n",
        "    return results"
      ]
    },
    {
      "cell_type": "code",
      "execution_count": null,
      "metadata": {
        "id": "FkhQspzV07Y2"
      },
      "outputs": [],
      "source": [
        "# Dataset\n",
        "X = np.array([[0,0,1,1],\n",
        "              [0,1,0,1]])\n",
        "Y = np.array([1,0,0,1])\n",
        "Y = Y[:, np.newaxis]\n",
        "\n",
        "\n",
        "test_X = np.array([ [1,1,0,0],\n",
        "                    [0,1,0,1]])"
      ]
    },
    {
      "cell_type": "code",
      "execution_count": null,
      "metadata": {
        "id": "N0cM1HSY1OrG"
      },
      "outputs": [],
      "source": [
        "w_hidden, b_hidden, w_output, b_output = train_n2(X, Y, epochs=10000)"
      ]
    },
    {
      "cell_type": "code",
      "execution_count": null,
      "metadata": {
        "colab": {
          "base_uri": "https://localhost:8080/"
        },
        "id": "WEL73k5L0w70",
        "outputId": "37dfaa1f-6aba-41b6-ae16-d145638fdb95"
      },
      "outputs": [
        {
          "data": {
            "text/plain": [
              "array([[0],\n",
              "       [1],\n",
              "       [1],\n",
              "       [0]])"
            ]
          },
          "execution_count": 126,
          "metadata": {},
          "output_type": "execute_result"
        }
      ],
      "source": [
        "test_n2(test_X, w_hidden, b_hidden, w_output, b_output)\n"
      ]
    },
    {
      "cell_type": "markdown",
      "metadata": {
        "id": "w8EtlZWGTAUb"
      },
      "source": [
        "ANN for XOR"
      ]
    },
    {
      "cell_type": "code",
      "execution_count": null,
      "metadata": {
        "id": "kmVOmxNKTENs"
      },
      "outputs": [],
      "source": [
        "# Dataset\n",
        "X = np.array([[0,0,1,1],\n",
        "              [0,1,0,1]])\n",
        "Y = np.array([0,1,1,0])\n",
        "Y = Y[:, np.newaxis]\n",
        "\n",
        "\n",
        "test_X = np.array([ [1,1,0,0],\n",
        "                    [0,1,0,1]])"
      ]
    },
    {
      "cell_type": "code",
      "execution_count": null,
      "metadata": {
        "id": "8aONUmf6TZGi"
      },
      "outputs": [],
      "source": [
        "w_hidden, b_hidden, w_output, b_output = train_n2(X, Y, epochs=10000)"
      ]
    },
    {
      "cell_type": "code",
      "execution_count": null,
      "metadata": {
        "colab": {
          "base_uri": "https://localhost:8080/"
        },
        "id": "72-P7WG5TbY5",
        "outputId": "a7ced6d7-8de3-47c2-a439-99da96dd327b"
      },
      "outputs": [
        {
          "data": {
            "text/plain": [
              "array([[1],\n",
              "       [0],\n",
              "       [0],\n",
              "       [1]])"
            ]
          },
          "execution_count": 129,
          "metadata": {},
          "output_type": "execute_result"
        }
      ],
      "source": [
        "test_n2(test_X, w_hidden, b_hidden, w_output, b_output)\n"
      ]
    }
  ],
  "metadata": {
    "colab": {
      "provenance": []
    },
    "kernelspec": {
      "display_name": "Python 3",
      "name": "python3"
    },
    "language_info": {
      "name": "python"
    }
  },
  "nbformat": 4,
  "nbformat_minor": 0
}
